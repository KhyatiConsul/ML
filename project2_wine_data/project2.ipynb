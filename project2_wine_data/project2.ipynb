{
  "nbformat": 4,
  "nbformat_minor": 0,
  "metadata": {
    "colab": {
      "provenance": []
    },
    "kernelspec": {
      "name": "python3",
      "display_name": "Python 3"
    },
    "language_info": {
      "name": "python"
    }
  },
  "cells": [
    {
      "cell_type": "code",
      "source": [
        "import pandas as pd\n",
        "import numpy as np\n",
        "from sklearn.model_selection import train_test_split\n",
        "from sklearn.tree import DecisionTreeClassifier\n",
        "from sklearn.ensemble import RandomForestClassifier\n",
        "from sklearn.metrics import accuracy_score\n",
        "#Load Data\n",
        "dataset_path = \"/wine_data.csv\"\n",
        "data = pd.read_csv(dataset_path)"
      ],
      "metadata": {
        "id": "L0t9GyMrWK2q"
      },
      "execution_count": null,
      "outputs": []
    },
    {
      "cell_type": "markdown",
      "source": [
        "Question1"
      ],
      "metadata": {
        "id": "YBDiYecmVlwT"
      }
    },
    {
      "cell_type": "code",
      "source": [
        "# most frequent occuring wine quality\n",
        "most_frequent_quality = data['quality'].mode()[0]\n",
        "print(f\"The most frequent occuring wine quality is: {most_frequent_quality}\")\n",
        "# highest and lowest numbers in the quality coloumn\n",
        "highest_quality = data['quality'].max()\n",
        "lowest_quality = data['quality'].min()\n",
        "print(f\"Highest quality is: {highest_quality}\")\n",
        "print(f\"Lowest quality is: {lowest_quality}\")"
      ],
      "metadata": {
        "colab": {
          "base_uri": "https://localhost:8080/"
        },
        "id": "anhYznkAVsJv",
        "outputId": "db0cc642-92e1-41cf-c4b0-c8178fcb0f05"
      },
      "execution_count": null,
      "outputs": [
        {
          "output_type": "stream",
          "name": "stdout",
          "text": [
            "The most frequent occuring wine quality is: 5\n",
            "Highest quality is: 8\n",
            "Lowest quality is: 3\n"
          ]
        }
      ]
    },
    {
      "cell_type": "markdown",
      "source": [
        "Question 2"
      ],
      "metadata": {
        "id": "BihUneHRuEHR"
      }
    },
    {
      "cell_type": "code",
      "source": [
        "# correlation analysis\n",
        "fixed_acidity_correlation = data['fixed acidity'].corr(data['quality'])\n",
        "alcohol_correlation = data['alcohol'].corr(data['quality'])\n",
        "free_sulphur_dioxide_correlation = data['free sulfur dioxide'].corr(data['quality'])\n",
        "print(f\"Correlation between fixed acidity and quality: {fixed_acidity_correlation}\")\n",
        "print(f\"Correlation between alcohol and quality: {alcohol_correlation}\")\n",
        "print(f\"Correlation between free sulphur dioxide and quality: {free_sulphur_dioxide_correlation}\")"
      ],
      "metadata": {
        "colab": {
          "base_uri": "https://localhost:8080/"
        },
        "id": "yCLcN0oKuFnT",
        "outputId": "f7a1aa29-30e0-4a8a-985c-3665884ea22d"
      },
      "execution_count": null,
      "outputs": [
        {
          "output_type": "stream",
          "name": "stdout",
          "text": [
            "Correlation between fixed acidity and quality: 0.12405164911322428\n",
            "Correlation between alcohol and quality: 0.4761663239995365\n",
            "Correlation between free sulphur dioxide and quality: -0.0506560572442763\n"
          ]
        }
      ]
    },
    {
      "cell_type": "markdown",
      "source": [
        "Question 3"
      ],
      "metadata": {
        "id": "zsV41fn9xGez"
      }
    },
    {
      "cell_type": "code",
      "source": [
        "# average residual sugar for best and worst quality wines\n",
        "avg_residual_sugar_best = data[data['quality'] == highest_quality]['residual sugar'].mean()\n",
        "avg_residual_sugar_worst = data[data['quality'] == lowest_quality]['residual sugar'].mean()\n",
        "print(f\"The average residual for best quality wines is: {avg_residual_sugar_best}\")\n",
        "print(f\"The average residual for worst quality wines is: {avg_residual_sugar_worst}\")"
      ],
      "metadata": {
        "colab": {
          "base_uri": "https://localhost:8080/"
        },
        "id": "MTeFSsIKxIUZ",
        "outputId": "389452f9-4ff5-4409-9808-51f37ecf85ed"
      },
      "execution_count": null,
      "outputs": [
        {
          "output_type": "stream",
          "name": "stdout",
          "text": [
            "The average residual for best quality wines is: 2.5777777777777775\n",
            "The average residual for worst quality wines is: 2.6350000000000002\n"
          ]
        }
      ]
    },
    {
      "cell_type": "markdown",
      "source": [
        "Question 4"
      ],
      "metadata": {
        "id": "wZaeSx4x0cYl"
      }
    },
    {
      "cell_type": "code",
      "source": [
        "# effect of volatile acidity on quality\n",
        "volatile_acidity_correlation = data['volatile acidity'].corr(data['quality'])\n",
        "print(f\"Correlation between volatile acidity and quality: {volatile_acidity_correlation}\")"
      ],
      "metadata": {
        "colab": {
          "base_uri": "https://localhost:8080/"
        },
        "id": "4a01Af3x0dti",
        "outputId": "dc5238ff-ac8c-4aa1-e44e-4bd5a7ef4f01"
      },
      "execution_count": null,
      "outputs": [
        {
          "output_type": "stream",
          "name": "stdout",
          "text": [
            "Correlation between volatile acidity and quality: -0.390557780264007\n"
          ]
        }
      ]
    },
    {
      "cell_type": "markdown",
      "source": [
        "Question5"
      ],
      "metadata": {
        "id": "NlsW4Zmj4Ml8"
      }
    },
    {
      "cell_type": "code",
      "source": [
        "# prepare the data\n",
        "X = data.drop('quality', axis = 1)\n",
        "Y = data['quality']\n",
        "# split the data into training and testing sets\n",
        "X_train, X_test, Y_train, Y_test = train_test_split(X,Y, test_size=0.2, random_state=42)\n",
        "# decision tree model\n",
        "dt_model = DecisionTreeClassifier(random_state=42)\n",
        "dt_model.fit(X_train, Y_train)\n",
        "dt_predictions = dt_model.predict(X_test)\n",
        "dt_accuracy = accuracy_score(Y_test, dt_predictions)\n",
        "print(f\"Decision Tree Accuracy: {dt_accuracy}\")\n",
        "# random forest model\n",
        "rf_model = RandomForestClassifier(random_state=42)\n",
        "rf_model.fit(X_train, Y_train)\n",
        "rf_predictions = rf_model.predict(X_test)\n",
        "rf_accuracy = accuracy_score(Y_test, rf_predictions)\n",
        "print(f\"Random Forest Accuracy: {rf_accuracy}\")\n",
        "# compare the accuracy scores\n",
        "if dt_accuracy > rf_accuracy:\n",
        "  print(\"Decision Tree Model performed better than Random Forest Model.\")\n",
        "elif rf_accuracy > dt_accuracy:\n",
        "  print(\"Random Forest Model performed better than Decision Tree Model.\")\n",
        "else:\n",
        "  print(\"Both models have the same accuracy.\")"
      ],
      "metadata": {
        "colab": {
          "base_uri": "https://localhost:8080/"
        },
        "id": "McCm_Sr14OMG",
        "outputId": "046b1ab3-9d9d-441c-83fe-4f9a686290cd"
      },
      "execution_count": null,
      "outputs": [
        {
          "output_type": "stream",
          "name": "stdout",
          "text": [
            "Decision Tree Accuracy: 0.559375\n",
            "Random Forest Accuracy: 0.659375\n",
            "Random Forest Model performed better than Decision Tree Model.\n"
          ]
        }
      ]
    }
  ]
}